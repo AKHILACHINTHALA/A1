{
  "nbformat": 4,
  "nbformat_minor": 0,
  "metadata": {
    "colab": {
      "provenance": [],
      "authorship_tag": "ABX9TyPq+8dSViErzX/t+1yQFInF",
      "include_colab_link": true
    },
    "kernelspec": {
      "name": "python3",
      "display_name": "Python 3"
    },
    "language_info": {
      "name": "python"
    }
  },
  "cells": [
    {
      "cell_type": "markdown",
      "metadata": {
        "id": "view-in-github",
        "colab_type": "text"
      },
      "source": [
        "<a href=\"https://colab.research.google.com/github/AKHILACHINTHALA/A1/blob/main/NN%26DL_clss_1.ipynb\" target=\"_parent\"><img src=\"https://colab.research.google.com/assets/colab-badge.svg\" alt=\"Open In Colab\"/></a>"
      ]
    },
    {
      "cell_type": "code",
      "execution_count": 1,
      "metadata": {
        "colab": {
          "base_uri": "https://localhost:8080/"
        },
        "id": "k01WBOyeFxDd",
        "outputId": "19faccc8-96dc-4e55-fc3f-cb1803882d1d"
      },
      "outputs": [
        {
          "output_type": "stream",
          "name": "stdout",
          "text": [
            "enter a word \n",
            "uday\n",
            "du\n"
          ]
        }
      ],
      "source": [
        "# QUE 1A\n",
        "\n",
        "ipString = input(\"enter a word \\n\")\n",
        "opString = (ipString[:-2])[::-1]    # ([:-2] - to remove last 2 characters of string ) ([::-1] - to reverse a string )\n",
        "print (opString)"
      ]
    },
    {
      "cell_type": "code",
      "source": [
        "# QUE 1B\n",
        "\n",
        "num1 = int(input(\"enter 1st number \\n\"))\n",
        "num2 = int(input(\"enter 2nd number \\n\"))\n",
        "sum = num1 + num2\n",
        "diff = num1 - num2\n",
        "prod = num1 * num2\n",
        "pow = num1 ** num2\n",
        "print (\"sum : \", sum)\n",
        "print (\"difference : \", diff)\n",
        "print (\"product : \", prod)\n",
        "print (\"num1 power num2 : \", pow)"
      ],
      "metadata": {
        "colab": {
          "base_uri": "https://localhost:8080/"
        },
        "id": "D2UEmhcQGFwX",
        "outputId": "f578b4c8-2b64-4b2d-9f42-534babc8829c"
      },
      "execution_count": 2,
      "outputs": [
        {
          "output_type": "stream",
          "name": "stdout",
          "text": [
            "enter 1st number \n",
            "2\n",
            "enter 2nd number \n",
            "4\n",
            "sum :  6\n",
            "difference :  -2\n",
            "product :  8\n",
            "num1 power num2 :  16\n"
          ]
        }
      ]
    },
    {
      "cell_type": "code",
      "source": [
        "# QUE 2\n",
        "\n",
        "ipString = str(input(\"enter a sentence \\n\"))\n",
        "opString = ipString.replace(\"python\", \"pythons\")\n",
        "print (opString)"
      ],
      "metadata": {
        "colab": {
          "base_uri": "https://localhost:8080/"
        },
        "id": "Um1qGKeWGKae",
        "outputId": "2ffd950e-4872-4436-8938-b4f1e7fb23f1"
      },
      "execution_count": 3,
      "outputs": [
        {
          "output_type": "stream",
          "name": "stdout",
          "text": [
            "enter a sentence \n",
            "i love python\n",
            "i love pythons\n"
          ]
        }
      ]
    },
    {
      "cell_type": "code",
      "source": [
        "# QUE 3\n",
        "\n",
        "classScore = int(input(\"enter class score \\n\"))\n",
        "\n",
        "if ((classScore >= 90) and (classScore < 100)) :\n",
        "  print(\"GRADE A\")\n",
        "elif ((classScore >= 80) and (classScore < 90)) :\n",
        "  print(\"GRADE B\")\n",
        "elif ((classScore >= 70) and (classScore < 80)) :\n",
        "  print(\"GRADE C\")\n",
        "elif ((classScore >= 60) and (classScore < 70)) :\n",
        "  print(\"GRADE D\")\n",
        "elif ((classScore >= 0) and (classScore < 60)) :\n",
        "  print(\"GRADE F\")\n",
        "else:\n",
        "  print(\"INVALID INPUT\")\n"
      ],
      "metadata": {
        "colab": {
          "base_uri": "https://localhost:8080/"
        },
        "id": "dPobjoYkGQ1F",
        "outputId": "26057e35-8827-4246-c63e-9b79c5cc511e"
      },
      "execution_count": 4,
      "outputs": [
        {
          "output_type": "stream",
          "name": "stdout",
          "text": [
            "enter class score \n",
            "98\n",
            "GRADE A\n"
          ]
        }
      ]
    }
  ]
}